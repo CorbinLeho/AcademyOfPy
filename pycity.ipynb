{
 "cells": [
  {
   "cell_type": "code",
   "execution_count": null,
   "metadata": {},
   "outputs": [],
   "source": [
    "# Dependencies and Setup\n",
    "import pandas as pd\n",
    "import numpy as np\n",
    "%config IPCompleter.greedy=True"
   ]
  },
  {
   "cell_type": "code",
   "execution_count": null,
   "metadata": {},
   "outputs": [],
   "source": [
    "# File to Load (Remember to Change These)\n",
    "school_data_to_load = ('schools_complete.csv')\n",
    "student_data_to_load = ('students_complete.csv')\n",
    "\n",
    "# Read School and Student Data File and store into Pandas Data Frames\n",
    "school_data = pd.read_csv(school_data_to_load)\n",
    "student_data = pd.read_csv(student_data_to_load)\n",
    "\n",
    "# Combine the data into a single dataset\n",
    "alldf = pd.merge(student_data, school_data, how=\"left\", on=[\"school_name\", \"school_name\"])"
   ]
  },
  {
   "cell_type": "code",
   "execution_count": null,
   "metadata": {},
   "outputs": [],
   "source": [
    "alldf = alldf.rename(columns = {\"student_name\": \"Student\", \"gender\": \"Gender\", \"grade\": \"Grade\", \"school_name\": \"School\", \"reading_score\": \"Reading Score\", \"math_score\": \"Math Score\", \"type\": \"Type\", \"size\": \"Size\", \"budget\": \"Budget\"})"
   ]
  },
  {
   "cell_type": "code",
   "execution_count": null,
   "metadata": {},
   "outputs": [],
   "source": [
    "# district summary\n",
    "count_passing_math = alldf[alldf[\"Math Score\"] >= 70].count()[\"School\"]\n",
    "count_passing_reading = alldf[alldf[\"Reading Score\"] >= 70].count()[\"School\"]\n",
    "\n",
    "avg_score = (alldf[\"Math Score\"].mean() + alldf[\"Reading Score\"].mean()) / 2\n",
    "total_schools = alldf['School'].nunique()\n",
    "total_students = alldf['Student ID'].count()\n",
    "total_budget = school_data['budget'].sum()\n",
    "avg_math = alldf['Math Score'].mean()\n",
    "avg_reading = alldf['Reading Score'].mean()\n",
    "percent_passing_math = (count_passing_math / (alldf['Student ID'].count())) * 100\n",
    "percent_passing_reading = (count_passing_reading / (alldf['Student ID'].count())) * 100\n",
    "percent_passing_both = (percent_passing_math + percent_passing_reading)/ 2"
   ]
  },
  {
   "cell_type": "code",
   "execution_count": null,
   "metadata": {},
   "outputs": [],
   "source": [
    "District_Summary = pd.DataFrame({\n",
    "    \"Total Schools\": total_schools,\n",
    "    \"Total Students\": total_students,\n",
    "    \"Total Budget\": total_budget,\n",
    "    \"Average Math Score\": avg_math,\n",
    "    \"Average Reading Score\": avg_reading,\n",
    "    \"% Passing Math\": [percent_passing_math],\n",
    "    \"% Passing Reading\": [percent_passing_reading],\n",
    "    \"% Overall Passing Rate\": [avg_score]}\n",
    ")"
   ]
  },
  {
   "cell_type": "code",
   "execution_count": null,
   "metadata": {},
   "outputs": [],
   "source": [
    "District_Summary"
   ]
  },
  {
   "cell_type": "code",
   "execution_count": null,
   "metadata": {},
   "outputs": [],
   "source": [
    "# school summary\n",
    "school_types = school_data.set_index([\"school_name\"])[\"type\"]\n",
    "per_school_counts = alldf[\"School\"].value_counts()\n",
    "per_school_budget = alldf.groupby([\"School\"]).mean()[\"Budget\"]\n",
    "per_student_budget = per_school_budget/ per_school_counts\n",
    "\n",
    "avg_math_score = alldf.groupby([\"School\"]).mean()[\"Math Score\"]\n",
    "avg_reading_score = alldf.groupby([\"School\"]).mean()[\"Reading Score\"]\n",
    "\n",
    "school_passing_math =  alldf[alldf[\"Math Score\"] >= 70].groupby(\"School\").count()[\"Student\"]\n",
    "school_passing_reading =  alldf[alldf[\"Reading Score\"] >= 70].groupby(\"School\").count()[\"Student\"]"
   ]
  },
  {
   "cell_type": "code",
   "execution_count": null,
   "metadata": {},
   "outputs": [],
   "source": [
    "percent_passing_math = school_passing_math / per_school_counts * 100\n",
    "percent_passing_reading = school_passing_reading / per_school_counts * 100\n",
    "overall_passing_rate = (percent_passing_math + percent_passing_reading) / 2"
   ]
  },
  {
   "cell_type": "code",
   "execution_count": null,
   "metadata": {},
   "outputs": [],
   "source": [
    "School_Summary = pd.DataFrame({\n",
    "    \"School Type\":school_types, \n",
    "    \"Total Students\":per_school_counts,\n",
    "    \"Total School Budget\":per_school_budget, \n",
    "    \"Per Student Budget\":per_student_budget,\n",
    "    \"Average Math Score\":avg_math_score, \n",
    "    \"Average Reading Score\":avg_reading_score,\n",
    "    \"% Passing Math\":percent_passing_math,\n",
    "    \"% Passing Reading\":percent_passing_reading,\n",
    "    \"% Overall Passing Rate\":overall_passing_rate\n",
    "})            "
   ]
  },
  {
   "cell_type": "code",
   "execution_count": null,
   "metadata": {},
   "outputs": [],
   "source": [
    "School_Summary = School_Summary[[\"School Type\",\"Total Students\",\"Total School Budget\",\"Per Student Budget\",\n",
    "                                \"Average Math Score\",\"Average Reading Score\",\"% Passing Math\",\"% Passing Reading\",\n",
    "                                 \"% Overall Passing Rate\"]]"
   ]
  },
  {
   "cell_type": "code",
   "execution_count": null,
   "metadata": {},
   "outputs": [],
   "source": [
    "School_Summary[\"Total School Budget\"] = School_Summary[\"Total School Budget\"].map(\"${:,.2f}\".format)\n",
    "School_Summary[\"Per Student Budget\"] = School_Summary[\"Per Student Budget\"].map(\"${:,.2f}\".format)"
   ]
  },
  {
   "cell_type": "code",
   "execution_count": null,
   "metadata": {},
   "outputs": [],
   "source": [
    "School_Summary"
   ]
  },
  {
   "cell_type": "code",
   "execution_count": null,
   "metadata": {},
   "outputs": [],
   "source": [
    "#top schools\n",
    "top_schools = School_Summary.sort_values([\"% Overall Passing Rate\"], ascending = False)\n",
    "top_schools\n"
   ]
  },
  {
   "cell_type": "code",
   "execution_count": null,
   "metadata": {},
   "outputs": [],
   "source": [
    "#bottom schools\n",
    "bottom_schools = School_Summary.sort_values([\"% Overall Passing Rate\"], ascending = True)\n",
    "bottom_schools\n"
   ]
  },
  {
   "cell_type": "code",
   "execution_count": null,
   "metadata": {},
   "outputs": [],
   "source": [
    "# math score by grade\n",
    "nineth =  alldf[alldf[\"Grade\"] == \"9th\"].groupby(\"School\").mean()[\"Math Score\"]\n",
    "tenth =  alldf[alldf[\"Grade\"] == \"10th\"].groupby(\"School\").mean()[\"Math Score\"]\n",
    "eleventh =  alldf[alldf[\"Grade\"] == \"11th\"].groupby(\"School\").mean()[\"Math Score\"]\n",
    "twelveth =  alldf[alldf[\"Grade\"] == \"12th\"].groupby(\"School\").mean()[\"Math Score\"]\n"
   ]
  },
  {
   "cell_type": "code",
   "execution_count": null,
   "metadata": {},
   "outputs": [],
   "source": [
    "math_score_by_grade_df = pd.DataFrame({\n",
    "    \"9th\":nineth,\n",
    "    \"10th\":tenth,\n",
    "    \"11th\":eleventh,\n",
    "    \"12th\":twelveth\n",
    "})            "
   ]
  },
  {
   "cell_type": "code",
   "execution_count": null,
   "metadata": {},
   "outputs": [],
   "source": [
    "Math_Score_by_Grade = math_score_by_grade_df[[\"9th\", \"10th\", \"11th\", \"12th\"]]\n",
    "Math_Score_by_Grade.index.name = None"
   ]
  },
  {
   "cell_type": "code",
   "execution_count": null,
   "metadata": {},
   "outputs": [],
   "source": [
    "Math_Score_by_Grade"
   ]
  },
  {
   "cell_type": "code",
   "execution_count": null,
   "metadata": {},
   "outputs": [],
   "source": [
    "# reading score by grade\n",
    "nineth_grade_score =  alldf[alldf[\"Grade\"] == \"9th\"].groupby(\"School\").mean()[\"Reading Score\"]\n",
    "tenth_grade_score =  alldf[alldf[\"Grade\"] == \"10th\"].groupby(\"School\").mean()[\"Reading Score\"]\n",
    "eleventh_grade_score =  alldf[alldf[\"Grade\"] == \"11th\"].groupby(\"School\").mean()[\"Reading Score\"]\n",
    "twelveth_grade_score =  alldf[alldf[\"Grade\"] == \"12th\"].groupby(\"School\").mean()[\"Reading Score\"]"
   ]
  },
  {
   "cell_type": "code",
   "execution_count": null,
   "metadata": {},
   "outputs": [],
   "source": [
    "reading_score_by_grade_df = pd.DataFrame({\n",
    "    \"9th\":nineth_grade_score, \n",
    "    \"10th\":tenth_grade_score,\n",
    "    \"11th\":eleventh_grade_score,\n",
    "    \"12th\":twelveth_grade_score\n",
    "})            "
   ]
  },
  {
   "cell_type": "code",
   "execution_count": null,
   "metadata": {},
   "outputs": [],
   "source": [
    "Reading_Score_by_Grade = reading_score_by_grade_df[[\"9th\", \"10th\", \"11th\", \"12th\"]]\n",
    "Reading_Score_by_Grade.index.name = None"
   ]
  },
  {
   "cell_type": "code",
   "execution_count": null,
   "metadata": {},
   "outputs": [],
   "source": [
    "Reading_Score_by_Grade"
   ]
  },
  {
   "cell_type": "code",
   "execution_count": null,
   "metadata": {},
   "outputs": [],
   "source": [
    "# scores by school spending\n",
    "spending_bins = [0, 585, 610, 635, 99999]\n",
    "spending_ranges = [\"<585\", \"585-610\", \"610-635\", \"635<\"]"
   ]
  },
  {
   "cell_type": "code",
   "execution_count": null,
   "metadata": {},
   "outputs": [],
   "source": [
    "School_Summary[\"Spending Ranges (Per Student)\"] = pd.cut(per_student_budget, spending_bins, labels = spending_ranges)"
   ]
  },
  {
   "cell_type": "code",
   "execution_count": null,
   "metadata": {},
   "outputs": [],
   "source": [
    "spending_math_score = School_Summary.groupby([\"Spending Ranges (Per Student)\"]).mean()['Average Math Score']\n",
    "spending_reading_score = School_Summary.groupby([\"Spending Ranges (Per Student)\"]).mean()['Average Reading Score']\n",
    "spending_passing_math =  School_Summary.groupby([\"Spending Ranges (Per Student)\"]).mean()['% Passing Math']\n",
    "spending_passing_reading =  School_Summary.groupby([\"Spending Ranges (Per Student)\"]).mean()['% Passing Reading']\n",
    "overall_passing_rate =  (spending_math_score + spending_reading_score) / 2"
   ]
  },
  {
   "cell_type": "code",
   "execution_count": null,
   "metadata": {},
   "outputs": [],
   "source": [
    "Spending_Score = pd.DataFrame({\"Average Math Score\":spending_math_score, \"Average Reading Score\":spending_reading_score,\n",
    "                               \"% Passing Math\":spending_passing_math,\"% Passing Reading\":spending_passing_reading,\n",
    "                                    \"Overall Passing Rate\":overall_passing_rate}) "
   ]
  },
  {
   "cell_type": "code",
   "execution_count": null,
   "metadata": {},
   "outputs": [],
   "source": [
    "Spending_Score = Spending_Score[[\"Average Math Score\", \"Average Reading Score\",\n",
    "                               \"% Passing Math\",\"% Passing Reading\",\"Overall Passing Rate\"]]"
   ]
  },
  {
   "cell_type": "code",
   "execution_count": null,
   "metadata": {},
   "outputs": [],
   "source": [
    "Spending_Score"
   ]
  },
  {
   "cell_type": "code",
   "execution_count": null,
   "metadata": {},
   "outputs": [],
   "source": [
    "# scores by school size\n",
    "size_bins = [0, 1000, 2000, 5000]\n",
    "size_ranges = [\"Small (<1000)\", \"Medium (1000-2000)\", \"Large (2000-5000)\"]"
   ]
  },
  {
   "cell_type": "code",
   "execution_count": null,
   "metadata": {},
   "outputs": [],
   "source": [
    "School_Summary[\"School Size\"] = pd.cut(School_Summary[\"Total Students\"], size_bins, labels = size_ranges)"
   ]
  },
  {
   "cell_type": "code",
   "execution_count": null,
   "metadata": {},
   "outputs": [],
   "source": [
    "avg_math_score = School_Summary.groupby([\"School Size\"]).mean()['Average Math Score']\n",
    "avg_reading_score = School_Summary.groupby([\"School Size\"]).mean()['Average Reading Score']\n",
    "percent_passing_math =  School_Summary.groupby([\"School Size\"]).mean()['% Passing Math']\n",
    "percent_passing_reading =  School_Summary.groupby([\"School Size\"]).mean()['% Passing Reading']\n",
    "overall_passing_rate = School_Summary.groupby([\"School Size\"]).mean()['% Overall Passing Rate']"
   ]
  },
  {
   "cell_type": "code",
   "execution_count": null,
   "metadata": {},
   "outputs": [],
   "source": [
    "Size_Score = pd.DataFrame({\"Average Math Score\":avg_math_score, \"Average Reading Score\":avg_reading_score,\n",
    "                               \"% Passing Math\":percent_passing_math,\"% Passing Reading\":percent_passing_reading,\n",
    "                                    \"% Overall Passing Rate\":overall_passing_rate})"
   ]
  },
  {
   "cell_type": "code",
   "execution_count": null,
   "metadata": {},
   "outputs": [],
   "source": [
    "Size_Score = Size_Score[[\"Average Math Score\", \"Average Reading Score\",\n",
    "                               \"% Passing Math\",\"% Passing Reading\",\"% Overall Passing Rate\"]]"
   ]
  },
  {
   "cell_type": "code",
   "execution_count": null,
   "metadata": {},
   "outputs": [],
   "source": [
    "Size_Score"
   ]
  },
  {
   "cell_type": "code",
   "execution_count": null,
   "metadata": {},
   "outputs": [],
   "source": [
    "# scores by school type \n",
    "avg_math_score = School_Summary.groupby([\"School Type\"]).mean()['Average Math Score']\n",
    "avg_reading_score = School_Summary.groupby([\"School Type\"]).mean()['Average Reading Score']\n",
    "percent_passing_math =  School_Summary.groupby([\"School Type\"]).mean()['% Passing Math']\n",
    "percent_passing_reading =  School_Summary.groupby([\"School Type\"]).mean()['% Passing Reading']\n",
    "overall_passing_rate = School_Summary.groupby([\"School Type\"]).mean()['% Overall Passing Rate']"
   ]
  },
  {
   "cell_type": "code",
   "execution_count": null,
   "metadata": {},
   "outputs": [],
   "source": [
    "Type_Score = pd.DataFrame({\"Average Math Score\":avg_math_score, \"Average Reading Score\":avg_reading_score,\n",
    "                               \"% Passing Math\":percent_passing_math,\"% Passing Reading\":percent_passing_reading,\n",
    "                                    \"% Overall Passing Rate\":overall_passing_rate})            "
   ]
  },
  {
   "cell_type": "code",
   "execution_count": null,
   "metadata": {},
   "outputs": [],
   "source": [
    "Type_Score = Type_Score[[\"Average Math Score\", \"Average Reading Score\",\n",
    "                               \"% Passing Math\",\"% Passing Reading\",\"% Overall Passing Rate\"]]"
   ]
  },
  {
   "cell_type": "code",
   "execution_count": null,
   "metadata": {},
   "outputs": [],
   "source": [
    "Type_Score"
   ]
  }
 ],
 "metadata": {
  "kernelspec": {
   "display_name": "Python 3",
   "language": "python",
   "name": "python3"
  },
  "language_info": {
   "codemirror_mode": {
    "name": "ipython",
    "version": 3
   },
   "file_extension": ".py",
   "mimetype": "text/x-python",
   "name": "python",
   "nbconvert_exporter": "python",
   "pygments_lexer": "ipython3",
   "version": "3.6.6"
  }
 },
 "nbformat": 4,
 "nbformat_minor": 2
}
